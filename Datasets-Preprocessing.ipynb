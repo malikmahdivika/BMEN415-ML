{
 "cells": [
  {
   "cell_type": "markdown",
   "metadata": {},
   "source": [
    "## Data Preprocessing and Reading\n",
    "\n",
    "### Parkinsons Regression Dataset"
   ]
  },
  {
   "cell_type": "code",
   "execution_count": 10,
   "metadata": {},
   "outputs": [
    {
     "name": "stdout",
     "output_type": "stream",
     "text": [
      "index            0\n",
      "subject#         0\n",
      "age              0\n",
      "sex              0\n",
      "test_time        0\n",
      "motor_UPDRS      0\n",
      "total_UPDRS      0\n",
      "Jitter(%)        0\n",
      "Jitter(Abs)      0\n",
      "Jitter:RAP       0\n",
      "Jitter:PPQ5      0\n",
      "Jitter:DDP       0\n",
      "Shimmer          0\n",
      "Shimmer(dB)      0\n",
      "Shimmer:APQ3     0\n",
      "Shimmer:APQ5     0\n",
      "Shimmer:APQ11    0\n",
      "Shimmer:DDA      0\n",
      "NHR              0\n",
      "HNR              0\n",
      "RPDE             0\n",
      "DFA              0\n",
      "PPE              0\n",
      "dtype: int64\n"
     ]
    }
   ],
   "source": [
    "import pandas as pd\n",
    "import matplotlib.pyplot as plt\n",
    "import seaborn as sns\n",
    "\n",
    "parkinsons_dataframe = pd.read_csv('parkinsons_updrs.data.csv')\n",
    "\n",
    "print(parkinsons_dataframe.isnull().sum())"
   ]
  },
  {
   "cell_type": "markdown",
   "metadata": {},
   "source": [
    "As we can see, no null values that need to be filled/dropped; this dataset will be used to predict motor and total UPDRS (disease progression) scores."
   ]
  },
  {
   "cell_type": "markdown",
   "metadata": {},
   "source": [
    "### Diabetes Classification Dataset"
   ]
  },
  {
   "cell_type": "code",
   "execution_count": 11,
   "metadata": {},
   "outputs": [
    {
     "name": "stdout",
     "output_type": "stream",
     "text": [
      "Diabetes_binary         0\n",
      "HighBP                  0\n",
      "HighChol                0\n",
      "CholCheck               0\n",
      "BMI                     0\n",
      "Smoker                  0\n",
      "Stroke                  0\n",
      "HeartDiseaseorAttack    0\n",
      "PhysActivity            0\n",
      "Fruits                  0\n",
      "Veggies                 0\n",
      "HvyAlcoholConsump       0\n",
      "AnyHealthcare           0\n",
      "NoDocbcCost             0\n",
      "GenHlth                 0\n",
      "MentHlth                0\n",
      "PhysHlth                0\n",
      "DiffWalk                0\n",
      "Sex                     0\n",
      "Age                     0\n",
      "Education               0\n",
      "Income                  0\n",
      "dtype: int64\n"
     ]
    }
   ],
   "source": [
    "diabetes_dataframe = pd.read_csv('diabetes_dataset(s)\\diabetes_binary_5050split_health_indicators_BRFSS2015.csv')\n",
    "\n",
    "print(diabetes_dataframe.isnull().sum())"
   ]
  },
  {
   "cell_type": "markdown",
   "metadata": {},
   "source": [
    "Again, no null values that need to be filled/dropped. This dataset will be used for the classification task, classifying between non-diabetic and diabetic."
   ]
  },
  {
   "cell_type": "markdown",
   "metadata": {},
   "source": [
    "### Image Classification Dataset"
   ]
  },
  {
   "cell_type": "code",
   "execution_count": null,
   "metadata": {},
   "outputs": [],
   "source": []
  }
 ],
 "metadata": {
  "kernelspec": {
   "display_name": "Python 3",
   "language": "python",
   "name": "python3"
  },
  "language_info": {
   "codemirror_mode": {
    "name": "ipython",
    "version": 3
   },
   "file_extension": ".py",
   "mimetype": "text/x-python",
   "name": "python",
   "nbconvert_exporter": "python",
   "pygments_lexer": "ipython3",
   "version": "3.11.9"
  }
 },
 "nbformat": 4,
 "nbformat_minor": 2
}
