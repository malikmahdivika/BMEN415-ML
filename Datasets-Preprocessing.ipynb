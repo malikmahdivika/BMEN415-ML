{
 "cells": [
  {
   "cell_type": "markdown",
   "metadata": {},
   "source": [
    "## Data Preprocessing and Reading\n",
    "\n",
    "### Parkinsons Regression Dataset"
   ]
  },
  {
   "cell_type": "code",
   "execution_count": 5,
   "metadata": {},
   "outputs": [
    {
     "name": "stdout",
     "output_type": "stream",
     "text": [
      "<class 'pandas.core.frame.DataFrame'>\n",
      "RangeIndex: 5875 entries, 0 to 5874\n",
      "Data columns (total 23 columns):\n",
      " #   Column         Non-Null Count  Dtype  \n",
      "---  ------         --------------  -----  \n",
      " 0   index          5875 non-null   int64  \n",
      " 1   subject#       5875 non-null   int64  \n",
      " 2   age            5875 non-null   int64  \n",
      " 3   sex            5875 non-null   int64  \n",
      " 4   test_time      5875 non-null   float64\n",
      " 5   motor_UPDRS    5875 non-null   float64\n",
      " 6   total_UPDRS    5875 non-null   float64\n",
      " 7   Jitter(%)      5875 non-null   float64\n",
      " 8   Jitter(Abs)    5875 non-null   float64\n",
      " 9   Jitter:RAP     5875 non-null   float64\n",
      " 10  Jitter:PPQ5    5875 non-null   float64\n",
      " 11  Jitter:DDP     5875 non-null   float64\n",
      " 12  Shimmer        5875 non-null   float64\n",
      " 13  Shimmer(dB)    5875 non-null   float64\n",
      " 14  Shimmer:APQ3   5875 non-null   float64\n",
      " 15  Shimmer:APQ5   5875 non-null   float64\n",
      " 16  Shimmer:APQ11  5875 non-null   float64\n",
      " 17  Shimmer:DDA    5875 non-null   float64\n",
      " 18  NHR            5875 non-null   float64\n",
      " 19  HNR            5875 non-null   float64\n",
      " 20  RPDE           5875 non-null   float64\n",
      " 21  DFA            5875 non-null   float64\n",
      " 22  PPE            5875 non-null   float64\n",
      "dtypes: float64(19), int64(4)\n",
      "memory usage: 1.0 MB\n",
      "None\n"
     ]
    }
   ],
   "source": [
    "import pandas as pd\n",
    "import matplotlib.pyplot as plt\n",
    "import seaborn as sns\n",
    "\n",
    "parkinsons_dataframe = pd.read_csv('parkinsons_updrs.data.csv')\n",
    "\n",
    "print(parkinsons_dataframe.info())"
   ]
  },
  {
   "cell_type": "markdown",
   "metadata": {},
   "source": [
    "As we can see, no null values that need to be filled/dropped; this dataset will be used to predict motor and total UPDRS (disease progression) scores. We can visualize some pairplots to assess the validity of a linear model."
   ]
  },
  {
   "cell_type": "code",
   "execution_count": null,
   "metadata": {},
   "outputs": [
    {
     "ename": "TypeError",
     "evalue": "list.remove() takes exactly one argument (2 given)",
     "output_type": "error",
     "traceback": [
      "\u001b[1;31m---------------------------------------------------------------------------\u001b[0m",
      "\u001b[1;31mTypeError\u001b[0m                                 Traceback (most recent call last)",
      "Cell \u001b[1;32mIn[6], line 6\u001b[0m\n\u001b[0;32m      3\u001b[0m xvars \u001b[38;5;241m=\u001b[39m parkinsons_dataframe\u001b[38;5;241m.\u001b[39mcolumns\u001b[38;5;241m.\u001b[39marray\n\u001b[0;32m      4\u001b[0m xvars \u001b[38;5;241m=\u001b[39m xvars\u001b[38;5;241m.\u001b[39mtolist()\n\u001b[1;32m----> 6\u001b[0m \u001b[43mxvars\u001b[49m\u001b[38;5;241;43m.\u001b[39;49m\u001b[43mremove\u001b[49m\u001b[43m(\u001b[49m\u001b[38;5;124;43m'\u001b[39;49m\u001b[38;5;124;43mmotor_UPDRS\u001b[39;49m\u001b[38;5;124;43m'\u001b[39;49m\u001b[43m,\u001b[49m\u001b[43m \u001b[49m\u001b[38;5;124;43m'\u001b[39;49m\u001b[38;5;124;43mtotal_UPDRS\u001b[39;49m\u001b[38;5;124;43m'\u001b[39;49m\u001b[43m)\u001b[49m\n\u001b[0;32m      9\u001b[0m sns\u001b[38;5;241m.\u001b[39mpairplot(parkinsons_dataframe, y_vars\u001b[38;5;241m=\u001b[39myvars, )\n",
      "\u001b[1;31mTypeError\u001b[0m: list.remove() takes exactly one argument (2 given)"
     ]
    }
   ],
   "source": [
    "yvars = ['motor_UPDRS', 'total_UPDRS']\n",
    "\n",
    "xvars = parkinsons_dataframe.columns.array\n",
    "xvars = xvars.tolist()\n",
    "\n",
    "xvars.remove('motor_UPDRS')\n",
    "xvars.remove('total_UPDRS')\n",
    "\n",
    "\n",
    "sns.pairplot(parkinsons_dataframe, y_vars=yvars, )"
   ]
  },
  {
   "cell_type": "code",
   "execution_count": null,
   "metadata": {},
   "outputs": [],
   "source": []
  }
 ],
 "metadata": {
  "kernelspec": {
   "display_name": "Python 3",
   "language": "python",
   "name": "python3"
  },
  "language_info": {
   "codemirror_mode": {
    "name": "ipython",
    "version": 3
   },
   "file_extension": ".py",
   "mimetype": "text/x-python",
   "name": "python",
   "nbconvert_exporter": "python",
   "pygments_lexer": "ipython3",
   "version": "3.11.9"
  }
 },
 "nbformat": 4,
 "nbformat_minor": 2
}
